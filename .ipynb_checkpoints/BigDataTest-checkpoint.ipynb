{
 "cells": [
  {
   "cell_type": "code",
   "execution_count": 54,
   "id": "41138d8e-19e2-4b13-90f9-738113b36f57",
   "metadata": {},
   "outputs": [],
   "source": [
    "import random\n",
    "import json\n",
    "import string\n",
    "from collections import defaultdict\n",
    "from faker import Faker\n",
    "import time\n",
    "from datetime import datetime, timedelta\n",
    "import pandas as pd"
   ]
  },
  {
   "cell_type": "code",
   "execution_count": 56,
   "id": "15bd6674-1fbb-4067-98b2-372d25ff6967",
   "metadata": {},
   "outputs": [],
   "source": [
    "df = pd.read_csv(\"NumPhones.csv\")"
   ]
  },
  {
   "cell_type": "code",
   "execution_count": 58,
   "id": "af4c38ff-79b9-4d03-ae10-12341265faba",
   "metadata": {},
   "outputs": [],
   "source": [
    "fake = Faker('fr_FR')\n",
    "\n",
    "# Paramètres de génération\n",
    "TOTAL_RECORDS = 4000\n",
    "ERROR_RATIO = 0.05\n",
    "DISTRIBUTION = {\n",
    "    \"voice\": 0.6,\n",
    "    \"data\": 0.3,\n",
    "    \"sms\": 0.1\n",
    "}\n",
    "technologies = [\"2G\", \"3G\", \"4G\", \"5G\"]"
   ]
  },
  {
   "cell_type": "code",
   "execution_count": 60,
   "id": "006e8d93-73d9-4657-ab75-2a8aec8c53de",
   "metadata": {},
   "outputs": [],
   "source": [
    "start_date = datetime(2025, 4, 1)\n",
    "end_date = datetime(2025, 4, 30, 23, 59, 59)\n",
    "\n",
    "# Simulation de Cell IDs\n",
    "cell_ids = [\"Casablanca\",\"Fès\",\"Tanger\",\"Marrakech\",\n",
    "            \"Meknès\",\"Agadir\",\"Rabat\",\"Oujda\",\"Salé\",\n",
    "            \"Nador\",\"Tiznit\",\"Sidi Kacem\",\"Al Hoceïma\"]\n",
    "\n",
    "# Technologies valides\n",
    "technologies = [\"2G\", \"3G\", \"4G\", \"5G\", \"LTE\"]"
   ]
  },
  {
   "cell_type": "code",
   "execution_count": 62,
   "id": "bd5eb38b-ee16-4dc5-9689-6f81d4435555",
   "metadata": {},
   "outputs": [],
   "source": [
    "last_seen = defaultdict(lambda:start_date)"
   ]
  },
  {
   "cell_type": "code",
   "execution_count": 64,
   "id": "2e49a041-bac7-4b12-ba5e-3006f5d64ac2",
   "metadata": {},
   "outputs": [],
   "source": [
    "def get_next_timestamp(phone):\n",
    "    last = last_seen[phone]\n",
    "    next_time = last + timedelta(seconds = random.randint(30,172800))\n",
    "    if next_time > end_date:\n",
    "        next_time = end_date\n",
    "    last_seen[phone] = next_time\n",
    "    return next_time.isoformat() + \"Z\""
   ]
  },
  {
   "cell_type": "code",
   "execution_count": 66,
   "id": "cab76a84-a9c9-4f4c-9162-9cf11afbd8f5",
   "metadata": {},
   "outputs": [],
   "source": [
    "def generate_phone_callee():\n",
    "    return \"2127\" + str(random.randint(10000000,99999999))\n",
    "num_phones = list(df[\"msisdn\"])\n",
    "num_phones_callee = [generate_phone_callee() for _ in range(10)]"
   ]
  },
  {
   "cell_type": "code",
   "execution_count": 79,
   "id": "9fce59c3-a6fa-4135-a9e2-611c658b14d7",
   "metadata": {},
   "outputs": [
    {
     "data": {
      "text/plain": [
       "'def generate_timestamp():\\n    delta = end_date - start_date\\n    random_seconds = random.randint(0,int(delta.total_seconds()))\\n    return (start_date + timedelta(seconds=random_second)).isoformat() + \"Z\"'"
      ]
     },
     "execution_count": 79,
     "metadata": {},
     "output_type": "execute_result"
    }
   ],
   "source": [
    "'''def generate_timestamp():\n",
    "    delta = end_date - start_date\n",
    "    random_seconds = random.randint(0,int(delta.total_seconds()))\n",
    "    return (start_date + timedelta(seconds=random_second)).isoformat() + \"Z\"'''"
   ]
  },
  {
   "cell_type": "code",
   "execution_count": 68,
   "id": "b083470b-05f7-4e8c-a185-56d1ee6a891e",
   "metadata": {},
   "outputs": [],
   "source": [
    "def generate_voice():\n",
    "    caller = random.choice(num_phones)\n",
    "    callee = random.choice(num_phones_callee)\n",
    "    return {\n",
    "        \"record_type\":\"voice\",\n",
    "        \"timestamp\":get_next_timestamp(caller),\n",
    "        \"caller_id\":caller,\n",
    "        \"callee_id\":callee,\n",
    "        \"duration_sec\":random.randint(5,600),\n",
    "        \"cell_id\":random.choice(cell_ids),\n",
    "        \"technology\":random.choice(technologies)\n",
    "    }"
   ]
  },
  {
   "cell_type": "code",
   "execution_count": 70,
   "id": "34a1093a-2bdb-49b2-aa36-740c342cf06e",
   "metadata": {},
   "outputs": [],
   "source": [
    "def generate_sms():\n",
    "    sender = random.choice(num_phones)\n",
    "    receiver = random.choice(num_phones_callee)\n",
    "    return {\n",
    "        \"record_type\":\"sms\",\n",
    "        \"timestamp\":get_next_timestamp(sender),\n",
    "        \"sender_id\":sender,\n",
    "        \"receiver_id\":receiver,\n",
    "        \"cell_id\":random.choice(cell_ids),\n",
    "        \"technology\":random.choice(technologies)\n",
    "    }"
   ]
  },
  {
   "cell_type": "code",
   "execution_count": 72,
   "id": "e7dd565e-3904-4d7e-abb3-10d88416b1db",
   "metadata": {},
   "outputs": [],
   "source": [
    "def generate_data():\n",
    "    user = random.choice(num_phones)\n",
    "    return {\n",
    "        \"record_type\":\"data\",\n",
    "        \"timestamp\":get_next_timestamp(user),\n",
    "        \"user_id\":user,\n",
    "        \"data_volume_mb\":round(random.uniform(1,500),2),\n",
    "        \"session_duration_sec\":round(random.uniform(30,1000)),\n",
    "        \"cell_id\":random.choice(cell_ids),\n",
    "        \"technology\":random.choice(technologies)\n",
    "    }                                "
   ]
  },
  {
   "cell_type": "code",
   "execution_count": 68,
   "id": "fb883e84-a131-4ab5-baea-cc59f444c097",
   "metadata": {},
   "outputs": [],
   "source": [
    "def corrupt_record(record):\n",
    "    corrupted = record.copy()\n",
    "    \n",
    "    if corrupted[\"record_type\"] == \"voice\":\n",
    "        if random.choice([True,False]):\n",
    "            corrupted[\"duration_sec\"] = -corrupted[\"duration_sec\"]\n",
    "        if random.choice([True,False]):\n",
    "            corrupted[\"callee_id\"] = \"\"\n",
    "        else:\n",
    "            lettre = random.choice(string.ascii_letters)\n",
    "            index = random.randint(0,len(corrupted[\"callee_id\"]))\n",
    "            corrupted[\"callee_id\"] = corrupted[\"callee_id\"][:index] + lettre + corrupted[\"callee_id\"][index:]\n",
    "    elif random.choice([True,False]):\n",
    "        key_to_remove = random.choice(list(corrupted.keys()))\n",
    "        del corrupted[key_to_remove]\n",
    "    else:\n",
    "        corrupted[\"record_type\"] = random.choice([\"Television\",\"Lan\",\"Cloud\",\"Optics\",\"DSL\"])\n",
    "    return corrupted"
   ]
  },
  {
   "cell_type": "code",
   "execution_count": 74,
   "id": "5d2a4c27-91dd-455c-a0cf-6901de26d724",
   "metadata": {},
   "outputs": [],
   "source": [
    "def corrupt_record_forced(record):\n",
    "    corrupted = record.copy()\n",
    "    \n",
    "    # Always do something that will be caught by Spark mediation\n",
    "    corruption_type = random.choice([\"missing_field\", \"invalid_type\", \"negative_duration\", \"dummy_msisdn\"])\n",
    "\n",
    "    if corruption_type == \"missing_field\":\n",
    "        key = random.choice([\"timestamp\", \"caller_id\", \"record_type\"])\n",
    "        corrupted.pop(key, None)\n",
    "\n",
    "    elif corruption_type == \"invalid_type\":\n",
    "        corrupted[\"record_type\"] = random.choice([\"DSL\", \"Cloud\", \"Television\", \"\"])\n",
    "\n",
    "    elif corruption_type == \"negative_duration\":\n",
    "        if corrupted.get(\"record_type\") == \"voice\" and \"duration_sec\" in corrupted:\n",
    "            corrupted[\"duration_sec\"] = -abs(corrupted[\"duration_sec\"])\n",
    "        elif corrupted.get(\"record_type\") == \"data\" and \"session_duration_sec\" in corrupted:\n",
    "            corrupted[\"session_duration_sec\"] = -abs(corrupted[\"session_duration_sec\"])\n",
    "\n",
    "    elif corruption_type == \"dummy_msisdn\":\n",
    "        # Set a caller ID to dummy pattern Spark will catch\n",
    "        if \"caller_id\" in corrupted:\n",
    "            corrupted[\"caller_id\"] = \"999\" + str(corrupted[\"caller_id\"])[3:]\n",
    "\n",
    "    return corrupted\n"
   ]
  },
  {
   "cell_type": "code",
   "execution_count": 76,
   "id": "e5f7ac86-f074-471e-861d-410d3ae4041b",
   "metadata": {},
   "outputs": [],
   "source": [
    "def generate_records():\n",
    "\n",
    "    records = []\n",
    "    num_voice = int(TOTAL_RECORDS * DISTRIBUTION[\"voice\"])\n",
    "    num_data = int(TOTAL_RECORDS * DISTRIBUTION[\"data\"])\n",
    "    num_sms = TOTAL_RECORDS - num_voice - num_data\n",
    "    \n",
    "    for _ in range(num_voice):\n",
    "        records.append(generate_voice())\n",
    "    for _ in range(num_data):\n",
    "        records.append(generate_data())\n",
    "    for _ in range(num_sms):\n",
    "        records.append(generate_sms())\n",
    "    \n",
    "    for _ in range(int(TOTAL_RECORDS * ERROR_RATIO)):\n",
    "        idx = random.randint(0,len(records) - 1)\n",
    "        records[idx] = corrupt_record_forced(records[idx])\n",
    "       \n",
    "\n",
    "    return records "
   ]
  },
  {
   "cell_type": "code",
   "execution_count": 82,
   "id": "5acc7a02-85ea-451c-89d9-73b5b63d2f84",
   "metadata": {
    "scrolled": true
   },
   "outputs": [
    {
     "name": "stdout",
     "output_type": "stream",
     "text": [
      "{'record_type': 'voice', 'timestamp': '2025-04-01T21:13:53Z', 'caller_id': 212696281155, 'callee_id': '212764336755', 'duration_sec': 474, 'cell_id': 'Al Hoceïma', 'technology': '4G'}\n",
      "{'record_type': 'voice', 'timestamp': '2025-04-05T10:49:37Z', 'caller_id': 212616729119, 'callee_id': '212741705738', 'duration_sec': 275, 'cell_id': 'Meknès', 'technology': '4G'}\n",
      "{'record_type': 'voice', 'timestamp': '2025-04-10T08:22:13Z', 'caller_id': 212660261167, 'callee_id': '212742826308', 'duration_sec': 258, 'cell_id': 'Rabat', 'technology': '3G'}\n",
      "{'record_type': 'voice', 'timestamp': '2025-04-02T18:04:54Z', 'caller_id': 212684712277, 'callee_id': '212727614241', 'duration_sec': 573, 'cell_id': 'Agadir', 'technology': '5G'}\n",
      "{'record_type': 'voice', 'timestamp': '2025-04-08T23:44:55Z', 'caller_id': 212611107024, 'callee_id': '212741705738', 'duration_sec': 205, 'cell_id': 'Tanger', 'technology': '3G'}\n",
      "{'record_type': 'voice', 'timestamp': '2025-04-08T19:35:29Z', 'caller_id': 212643423227, 'callee_id': '212764336755', 'duration_sec': 459, 'cell_id': 'Nador', 'technology': '5G'}\n",
      "{'record_type': 'voice', 'timestamp': '2025-04-04T13:12:25Z', 'caller_id': 212636658944, 'callee_id': '212742826308', 'duration_sec': 14, 'cell_id': 'Nador', 'technology': '4G'}\n",
      "{'record_type': 'voice', 'timestamp': '2025-04-03T04:17:19Z', 'caller_id': 212625057914, 'callee_id': '212785454325', 'duration_sec': 275, 'cell_id': 'Oujda', 'technology': '5G'}\n",
      "{'record_type': 'voice', 'timestamp': '2025-04-02T20:44:31Z', 'caller_id': 212627020063, 'callee_id': '212785454325', 'duration_sec': 57, 'cell_id': 'Rabat', 'technology': '5G'}\n",
      "{'record_type': 'voice', 'timestamp': '2025-04-04T04:30:37Z', 'caller_id': 212654935956, 'callee_id': '212785454325', 'duration_sec': 552, 'cell_id': 'Rabat', 'technology': '5G'}\n",
      "{'record_type': 'voice', 'timestamp': '2025-04-04T05:19:15Z', 'caller_id': 212681502077, 'callee_id': '212715255249', 'duration_sec': 178, 'cell_id': 'Casablanca', 'technology': '4G'}\n",
      "{'record_type': 'voice', 'timestamp': '2025-04-06T14:44:31Z', 'caller_id': 212665368195, 'callee_id': '212785454325', 'duration_sec': 558, 'cell_id': 'Marrakech', 'technology': '2G'}\n",
      "{'record_type': 'voice', 'timestamp': '2025-04-02T19:29:14Z', 'caller_id': 212602006237, 'callee_id': '212724748807', 'duration_sec': 59, 'cell_id': 'Sidi Kacem', 'technology': '4G'}\n",
      "{'record_type': 'voice', 'timestamp': '2025-04-02T11:52:37Z', 'caller_id': 212628992408, 'callee_id': '212746972459', 'duration_sec': 297, 'cell_id': 'Casablanca', 'technology': '5G'}\n",
      "{'record_type': 'voice', 'timestamp': '2025-04-05T23:41:21Z', 'caller_id': 212652930304, 'callee_id': '212785454325', 'duration_sec': 381, 'cell_id': 'Oujda', 'technology': '4G'}\n",
      "{'record_type': 'voice', 'timestamp': '2025-04-02T03:54:32Z', 'caller_id': 212670632992, 'callee_id': '212724748807', 'duration_sec': 430, 'cell_id': 'Casablanca', 'technology': '3G'}\n",
      "{'record_type': 'voice', 'timestamp': '2025-04-01T18:58:27Z', 'caller_id': 212696448446, 'callee_id': '212742826308', 'duration_sec': 81, 'cell_id': 'Sidi Kacem', 'technology': '3G'}\n",
      "{'record_type': 'voice', 'timestamp': '2025-04-02T21:30:26Z', 'caller_id': 212633122303, 'callee_id': '212741705738', 'duration_sec': 537, 'cell_id': 'Agadir', 'technology': '2G'}\n",
      "{'record_type': 'voice', 'timestamp': '2025-04-03T22:34:05Z', 'caller_id': 212633122303, 'callee_id': '212741705738', 'duration_sec': 134, 'cell_id': 'Sidi Kacem', 'technology': '4G'}\n",
      "{'record_type': 'voice', 'timestamp': '2025-04-03T21:17:44Z', 'caller_id': 212687647010, 'callee_id': '212797068602', 'duration_sec': 425, 'cell_id': 'Fès', 'technology': '4G'}\n",
      "{'record_type': 'voice', 'timestamp': '2025-04-06T04:37:16Z', 'caller_id': 212649454638, 'callee_id': '212741705738', 'duration_sec': 132, 'cell_id': 'Sidi Kacem', 'technology': '3G'}\n",
      "{'record_type': 'voice', 'timestamp': '2025-04-04T05:05:56Z', 'caller_id': 212629948066, 'callee_id': '212785454325', 'duration_sec': 354, 'cell_id': 'Rabat', 'technology': '3G'}\n",
      "{'record_type': 'voice', 'timestamp': '2025-04-02T05:55:00Z', 'caller_id': 212604965489, 'callee_id': '212727614241', 'duration_sec': 16, 'cell_id': 'Nador', 'technology': '3G'}\n",
      "{'record_type': 'voice', 'timestamp': '2025-04-04T11:27:58Z', 'caller_id': 212641266649, 'callee_id': '212727614241', 'duration_sec': 449, 'cell_id': 'Meknès', 'technology': '5G'}\n",
      "{'record_type': 'voice', 'timestamp': '2025-04-03T07:29:55Z', 'caller_id': 212688213948, 'callee_id': '212741705738', 'duration_sec': 57, 'cell_id': 'Tiznit', 'technology': '2G'}\n",
      "{'record_type': 'voice', 'timestamp': '2025-04-04T22:37:15Z', 'caller_id': 212663265321, 'callee_id': '212715255249', 'duration_sec': 348, 'cell_id': 'Tanger', 'technology': '2G'}\n",
      "{'record_type': 'voice', 'timestamp': '2025-04-04T23:14:17Z', 'caller_id': 212663971396, 'callee_id': '212741705738', 'duration_sec': 127, 'cell_id': 'Oujda', 'technology': '3G'}\n",
      "{'record_type': 'voice', 'timestamp': '2025-04-03T16:26:07Z', 'caller_id': 212692449937, 'callee_id': '212785454325', 'duration_sec': 60, 'cell_id': 'Tanger', 'technology': '2G'}\n",
      "{'record_type': 'voice', 'timestamp': '2025-04-04T18:50:12Z', 'caller_id': 212686678995, 'callee_id': '212727614241', 'duration_sec': 310, 'cell_id': 'Meknès', 'technology': '4G'}\n",
      "{'record_type': 'voice', 'timestamp': '2025-04-07T10:00:31Z', 'caller_id': 212623117991, 'callee_id': '212710120967', 'duration_sec': 540, 'cell_id': 'Salé', 'technology': '4G'}\n",
      "{'record_type': 'voice', 'timestamp': '2025-04-05T07:01:51Z', 'caller_id': 212631921140, 'callee_id': '212746972459', 'duration_sec': 235, 'cell_id': 'Fès', 'technology': '5G'}\n",
      "{'record_type': 'voice', 'timestamp': '2025-04-05T17:44:52Z', 'caller_id': 212656209681, 'callee_id': '212727614241', 'duration_sec': 269, 'cell_id': 'Tiznit', 'technology': '5G'}\n",
      "{'record_type': 'voice', 'timestamp': '2025-04-02T10:30:34Z', 'caller_id': 212600777237, 'callee_id': '212742826308', 'duration_sec': 353, 'cell_id': 'Casablanca', 'technology': '4G'}\n",
      "{'record_type': 'voice', 'timestamp': '2025-04-03T16:27:04Z', 'caller_id': 212622221143, 'callee_id': '212742826308', 'duration_sec': 570, 'cell_id': 'Fès', 'technology': '2G'}\n",
      "{'record_type': 'voice', 'timestamp': '2025-04-04T21:18:21Z', 'caller_id': 212694340436, 'callee_id': '212742826308', 'duration_sec': 55, 'cell_id': 'Sidi Kacem', 'technology': '3G'}\n",
      "{'record_type': 'voice', 'timestamp': '2025-04-05T10:42:51Z', 'caller_id': 212624292612, 'callee_id': '212797068602', 'duration_sec': 516, 'cell_id': 'Marrakech', 'technology': '2G'}\n",
      "{'record_type': 'voice', 'timestamp': '2025-04-07T22:54:13Z', 'caller_id': 212604163929, 'callee_id': '212797068602', 'duration_sec': 520, 'cell_id': 'Tiznit', 'technology': '3G'}\n",
      "{'record_type': 'voice', 'timestamp': '2025-04-06T10:13:59Z', 'caller_id': 212684584969, 'callee_id': '212727614241', 'duration_sec': 182, 'cell_id': 'Fès', 'technology': '2G'}\n",
      "{'record_type': 'voice', 'timestamp': '2025-04-02T18:06:02Z', 'caller_id': 212619566665, 'callee_id': '212764336755', 'duration_sec': 374, 'cell_id': 'Casablanca', 'technology': '2G'}\n",
      "{'record_type': 'voice', 'timestamp': '2025-04-03T06:19:35Z', 'caller_id': 212686806278, 'callee_id': '212785454325', 'duration_sec': 555, 'cell_id': 'Tanger', 'technology': '2G'}\n",
      "{'record_type': 'voice', 'timestamp': '2025-04-06T02:11:15Z', 'caller_id': 212677744831, 'callee_id': '212741705738', 'duration_sec': 214, 'cell_id': 'Nador', 'technology': '2G'}\n",
      "{'record_type': 'voice', 'timestamp': '2025-04-05T14:44:14Z', 'caller_id': 212626661134, 'callee_id': '212710120967', 'duration_sec': 154, 'cell_id': 'Tanger', 'technology': '3G'}\n",
      "{'record_type': 'voice', 'timestamp': '2025-04-04T00:55:44Z', 'caller_id': 212611080356, 'callee_id': '212727614241', 'duration_sec': 8, 'cell_id': 'Tiznit', 'technology': '4G'}\n",
      "{'record_type': 'voice', 'timestamp': '2025-04-06T12:06:26Z', 'caller_id': 212634201692, 'callee_id': '212710120967', 'duration_sec': 588, 'cell_id': 'Agadir', 'technology': '2G'}\n",
      "{'record_type': 'voice', 'timestamp': '2025-04-02T11:58:40Z', 'caller_id': 212630210375, 'callee_id': '212727614241', 'duration_sec': 528, 'cell_id': 'Sidi Kacem', 'technology': '4G'}\n",
      "{'record_type': 'voice', 'timestamp': '2025-04-03T04:21:10Z', 'caller_id': 212610354972, 'callee_id': '212764336755', 'duration_sec': 413, 'cell_id': 'Salé', 'technology': '5G'}\n",
      "{'record_type': 'voice', 'timestamp': '2025-04-04T19:36:12Z', 'caller_id': 212627916294, 'callee_id': '212742826308', 'duration_sec': 518, 'cell_id': 'Salé', 'technology': '5G'}\n",
      "{'record_type': 'voice', 'timestamp': '2025-04-05T11:08:14Z', 'caller_id': 212602779110, 'callee_id': '212742826308', 'duration_sec': 561, 'cell_id': 'Tanger', 'technology': '5G'}\n",
      "{'record_type': 'voice', 'timestamp': '2025-04-04T21:52:10Z', 'caller_id': 212661336022, 'callee_id': '212742826308', 'duration_sec': 257, 'cell_id': 'Fès', 'technology': '5G'}\n",
      "{'record_type': 'voice', 'timestamp': '2025-04-01T06:19:54Z', 'caller_id': 212604388052, 'callee_id': '212710120967', 'duration_sec': 327, 'cell_id': 'Sidi Kacem', 'technology': '3G'}\n",
      "{'record_type': 'voice', 'timestamp': '2025-04-03T20:30:03Z', 'caller_id': 212682070686, 'callee_id': '212785454325', 'duration_sec': 338, 'cell_id': 'Agadir', 'technology': '3G'}\n",
      "{'record_type': 'voice', 'timestamp': '2025-04-02T15:40:48Z', 'caller_id': 212640505455, 'callee_id': '212724748807', 'duration_sec': 369, 'cell_id': 'Sidi Kacem', 'technology': '3G'}\n",
      "{'record_type': 'voice', 'timestamp': '2025-04-06T07:35:01Z', 'caller_id': 212671227812, 'callee_id': '212742826308', 'duration_sec': 162, 'cell_id': 'Nador', 'technology': '4G'}\n",
      "{'record_type': 'voice', 'caller_id': 212622374330, 'callee_id': '212746972459', 'duration_sec': 509, 'cell_id': 'Marrakech', 'technology': '3G'}\n",
      "{'record_type': 'voice', 'timestamp': '2025-04-01T10:23:08Z', 'caller_id': 212661623377, 'callee_id': '212797068602', 'duration_sec': 69, 'cell_id': 'Tiznit', 'technology': '4G'}\n",
      "{'record_type': 'voice', 'timestamp': '2025-04-04T20:00:09Z', 'caller_id': 212642799671, 'callee_id': '212742826308', 'duration_sec': 252, 'cell_id': 'Salé', 'technology': '4G'}\n",
      "{'record_type': 'voice', 'timestamp': '2025-04-06T09:56:37Z', 'caller_id': 212627916294, 'callee_id': '212727614241', 'duration_sec': 343, 'cell_id': 'Salé', 'technology': '5G'}\n",
      "{'record_type': 'voice', 'timestamp': '2025-04-12T11:25:33Z', 'caller_id': 212604214881, 'callee_id': '212741705738', 'duration_sec': 427, 'cell_id': 'Agadir', 'technology': '3G'}\n",
      "{'record_type': 'voice', 'timestamp': '2025-04-04T21:33:23Z', 'caller_id': 212675780756, 'callee_id': '212724748807', 'duration_sec': 408, 'cell_id': 'Tiznit', 'technology': '4G'}\n",
      "{'record_type': 'voice', 'timestamp': '2025-04-01T06:21:35Z', 'caller_id': 212675963163, 'callee_id': '212724748807', 'duration_sec': 360, 'cell_id': 'Tiznit', 'technology': '3G'}\n",
      "{'record_type': 'data', 'timestamp': '2025-04-03T15:01:04Z', 'user_id': 212630480274, 'data_volume_mb': 8.29, 'session_duration_sec': 486, 'cell_id': 'Tanger', 'technology': '4G'}\n",
      "{'record_type': 'data', 'timestamp': '2025-04-03T00:07:03Z', 'user_id': 212655388570, 'data_volume_mb': 374.28, 'session_duration_sec': 155, 'cell_id': 'Agadir', 'technology': '2G'}\n",
      "{'timestamp': '2025-04-04T15:28:10Z', 'user_id': 212610354972, 'data_volume_mb': 64.43, 'session_duration_sec': 682, 'cell_id': 'Salé', 'technology': '4G'}\n",
      "{'record_type': 'data', 'timestamp': '2025-04-08T14:13:29Z', 'user_id': 212680438776, 'data_volume_mb': 13.23, 'session_duration_sec': 251, 'cell_id': 'Rabat', 'technology': '3G'}\n",
      "{'record_type': 'data', 'timestamp': '2025-04-03T15:17:46Z', 'user_id': 212600224715, 'data_volume_mb': 166.2, 'session_duration_sec': 858, 'cell_id': 'Tanger', 'technology': '3G'}\n",
      "{'record_type': 'data', 'timestamp': '2025-04-03T04:37:48Z', 'user_id': 212656271997, 'data_volume_mb': 287.64, 'session_duration_sec': 860, 'cell_id': 'Casablanca', 'technology': '2G'}\n",
      "{'record_type': 'data', 'timestamp': '2025-04-03T16:50:29Z', 'user_id': 212656541936, 'data_volume_mb': 256.71, 'session_duration_sec': 521, 'cell_id': 'Oujda', 'technology': '2G'}\n",
      "{'record_type': 'data', 'timestamp': '2025-04-01T08:17:52Z', 'user_id': 212655984286, 'data_volume_mb': 315.1, 'session_duration_sec': 235, 'cell_id': 'Fès', 'technology': '5G'}\n",
      "{'record_type': 'data', 'timestamp': '2025-04-07T16:45:41Z', 'user_id': 212639155402, 'data_volume_mb': 385.54, 'session_duration_sec': 435, 'cell_id': 'Tanger', 'technology': '2G'}\n",
      "{'record_type': 'data', 'timestamp': '2025-04-02T14:55:58Z', 'user_id': 212693849319, 'data_volume_mb': 496.44, 'session_duration_sec': 275, 'cell_id': 'Tanger', 'technology': '3G'}\n",
      "{'record_type': 'data', 'timestamp': '2025-04-02T15:00:18Z', 'user_id': 212625610429, 'data_volume_mb': 232.26, 'session_duration_sec': 166, 'cell_id': 'Salé', 'technology': '5G'}\n",
      "{'record_type': 'data', 'timestamp': '2025-04-02T22:43:47Z', 'user_id': 212649691023, 'data_volume_mb': 413.04, 'session_duration_sec': 395, 'cell_id': 'Salé', 'technology': '4G'}\n",
      "{'record_type': 'data', 'timestamp': '2025-04-01T23:24:57Z', 'user_id': 212600021803, 'data_volume_mb': 59.81, 'session_duration_sec': 213, 'cell_id': 'Meknès', 'technology': '3G'}\n",
      "{'record_type': 'Cloud', 'timestamp': '2025-04-02T05:12:58Z', 'user_id': 212678918606, 'data_volume_mb': 345.02, 'session_duration_sec': 192, 'cell_id': 'Sidi Kacem', 'technology': '3G'}\n",
      "{'record_type': 'data', 'timestamp': '2025-04-06T18:30:36Z', 'user_id': 212647670822, 'data_volume_mb': 364.14, 'session_duration_sec': 61, 'cell_id': 'Meknès', 'technology': '4G'}\n",
      "{'record_type': 'data', 'timestamp': '2025-04-06T21:32:04Z', 'user_id': 212650847175, 'data_volume_mb': 24.73, 'session_duration_sec': 878, 'cell_id': 'Sidi Kacem', 'technology': '3G'}\n",
      "{'record_type': 'data', 'timestamp': '2025-04-05T09:36:42Z', 'user_id': 212612650353, 'data_volume_mb': 468.92, 'session_duration_sec': 862, 'cell_id': 'Casablanca', 'technology': '3G'}\n",
      "{'record_type': 'data', 'timestamp': '2025-04-01T19:17:28Z', 'user_id': 212667831513, 'data_volume_mb': 286.06, 'session_duration_sec': 993, 'cell_id': 'Fès', 'technology': '2G'}\n",
      "{'record_type': 'data', 'timestamp': '2025-04-04T12:24:17Z', 'user_id': 212674068317, 'data_volume_mb': 151.04, 'session_duration_sec': 276, 'cell_id': 'Nador', 'technology': '4G'}\n",
      "{'record_type': 'data', 'timestamp': '2025-04-03T15:44:39Z', 'user_id': 212649459765, 'data_volume_mb': 346.81, 'session_duration_sec': 488, 'cell_id': 'Tiznit', 'technology': '4G'}\n",
      "{'record_type': 'data', 'timestamp': '2025-04-04T13:02:52Z', 'user_id': 212627020063, 'data_volume_mb': 439.54, 'session_duration_sec': 118, 'cell_id': 'Salé', 'technology': '5G'}\n",
      "{'record_type': 'data', 'timestamp': '2025-04-03T09:08:13Z', 'user_id': 212638425609, 'data_volume_mb': 209.62, 'session_duration_sec': 938, 'cell_id': 'Tiznit', 'technology': '2G'}\n",
      "{'record_type': 'data', 'timestamp': '2025-04-04T01:22:02Z', 'user_id': 212688213948, 'data_volume_mb': 329.34, 'session_duration_sec': 431, 'cell_id': 'Marrakech', 'technology': '5G'}\n",
      "{'record_type': '', 'timestamp': '2025-04-02T06:57:45Z', 'user_id': 212646246834, 'data_volume_mb': 55.48, 'session_duration_sec': 810, 'cell_id': 'Sidi Kacem', 'technology': '2G'}\n",
      "{'record_type': 'data', 'timestamp': '2025-04-05T00:09:57Z', 'user_id': 212661331046, 'data_volume_mb': 131.34, 'session_duration_sec': 772, 'cell_id': 'Agadir', 'technology': '2G'}\n",
      "{'record_type': 'data', 'timestamp': '2025-04-04T12:14:51Z', 'user_id': 212691136115, 'data_volume_mb': 66.08, 'session_duration_sec': 550, 'cell_id': 'Fès', 'technology': '3G'}\n",
      "{'record_type': 'data', 'timestamp': '2025-04-03T22:10:03Z', 'user_id': 212685152914, 'data_volume_mb': 329.92, 'session_duration_sec': 731, 'cell_id': 'Sidi Kacem', 'technology': '5G'}\n",
      "{'record_type': 'data', 'timestamp': '2025-04-06T12:37:46Z', 'user_id': 212663971396, 'data_volume_mb': 34.01, 'session_duration_sec': 222, 'cell_id': 'Salé', 'technology': '2G'}\n",
      "{'record_type': 'data', 'timestamp': '2025-04-03T15:08:43Z', 'user_id': 212640873675, 'data_volume_mb': 386.58, 'session_duration_sec': 986, 'cell_id': 'Oujda', 'technology': '4G'}\n",
      "{'record_type': 'data', 'timestamp': '2025-04-09T08:08:19Z', 'user_id': 212623117991, 'data_volume_mb': 72.47, 'session_duration_sec': 822, 'cell_id': 'Al Hoceïma', 'technology': '3G'}\n",
      "{'record_type': 'sms', 'timestamp': '2025-04-03T11:46:05Z', 'sender_id': 212679344406, 'receiver_id': '212710120967', 'cell_id': 'Nador', 'technology': '3G'}\n",
      "{'record_type': 'sms', 'timestamp': '2025-04-04T01:51:50Z', 'sender_id': 212600224715, 'receiver_id': '212785454325', 'cell_id': 'Casablanca', 'technology': '2G'}\n",
      "{'record_type': 'sms', 'timestamp': '2025-04-03T06:01:12Z', 'sender_id': 212622687903, 'receiver_id': '212797068602', 'cell_id': 'Fès', 'technology': '4G'}\n",
      "{'record_type': 'sms', 'timestamp': '2025-04-06T21:58:46Z', 'sender_id': 212650847175, 'receiver_id': '212727614241', 'cell_id': 'Oujda', 'technology': '4G'}\n",
      "{'record_type': 'sms', 'timestamp': '2025-04-01T23:01:27Z', 'sender_id': 212640545455, 'receiver_id': '212715255249', 'cell_id': 'Salé', 'technology': '3G'}\n",
      "{'record_type': 'sms', 'timestamp': '2025-04-02T00:54:02Z', 'sender_id': 212622189123, 'receiver_id': '212764336755', 'cell_id': 'Marrakech', 'technology': '2G'}\n",
      "{'record_type': 'sms', 'timestamp': '2025-04-03T16:46:24Z', 'sender_id': 212649102161, 'receiver_id': '212710120967', 'cell_id': 'Sidi Kacem', 'technology': '4G'}\n",
      "{'record_type': 'sms', 'timestamp': '2025-04-07T01:23:50Z', 'sender_id': 212682584826, 'receiver_id': '212710120967', 'cell_id': 'Nador', 'technology': '2G'}\n",
      "{'record_type': 'sms', 'timestamp': '2025-04-02T13:32:04Z', 'sender_id': 212692002354, 'receiver_id': '212785454325', 'cell_id': 'Tiznit', 'technology': '3G'}\n",
      "{'record_type': 'sms', 'timestamp': '2025-04-04T16:21:52Z', 'sender_id': 212621514367, 'receiver_id': '212715255249', 'cell_id': 'Fès', 'technology': '4G'}\n"
     ]
    }
   ],
   "source": [
    "records = generate_records()\n",
    "for i in range(len(records)):\n",
    "    print(records[i])\n",
    " "
   ]
  },
  {
   "cell_type": "code",
   "execution_count": 78,
   "id": "604b1481-bc10-40f8-a851-bed7782dabde",
   "metadata": {},
   "outputs": [],
   "source": [
    "from kafka import KafkaProducer"
   ]
  },
  {
   "cell_type": "code",
   "execution_count": 80,
   "id": "756d576f-f828-4c09-b278-4ed62f4d6989",
   "metadata": {},
   "outputs": [],
   "source": [
    "producer = KafkaProducer(bootstrap_servers=['192.168.0.181:9092', '192.168.0.135:9092'])"
   ]
  },
  {
   "cell_type": "code",
   "execution_count": 82,
   "id": "aa9fdac3-ecb7-48c1-8d8b-e85e95110513",
   "metadata": {},
   "outputs": [],
   "source": [
    "from tqdm import tqdm"
   ]
  },
  {
   "cell_type": "code",
   "execution_count": 92,
   "id": "58887cb7-5395-448f-8b37-6c5d8c81b225",
   "metadata": {},
   "outputs": [
    {
     "name": "stderr",
     "output_type": "stream",
     "text": [
      "100%|██████████| 4000/4000 [24:07<00:00,  2.76it/s]"
     ]
    },
    {
     "name": "stdout",
     "output_type": "stream",
     "text": [
      "✅ All messages sent.\n"
     ]
    },
    {
     "name": "stderr",
     "output_type": "stream",
     "text": [
      "\n"
     ]
    }
   ],
   "source": [
    "records = generate_records()\n",
    "time_to_wait = TOTAL_RECORDS \n",
    "for i in tqdm(range(len(records))):\n",
    "    msg = json.dumps(records[i],indent=2,ensure_ascii=False).encode('utf-8')\n",
    "    future = producer.send('voice',value=msg)\n",
    "    time.sleep(0.36)\n",
    "producer.flush()\n",
    "print(\"✅ All messages sent.\")"
   ]
  },
  {
   "cell_type": "code",
   "execution_count": null,
   "id": "e09a280f-de5e-402d-88b7-1c00f68b49c7",
   "metadata": {},
   "outputs": [],
   "source": []
  },
  {
   "cell_type": "code",
   "execution_count": null,
   "id": "ab91a34b-fadb-4016-b2b6-d888049eb509",
   "metadata": {},
   "outputs": [],
   "source": []
  },
  {
   "cell_type": "code",
   "execution_count": null,
   "id": "7974f877-f625-4baa-8d33-81e4e6ec9f84",
   "metadata": {},
   "outputs": [],
   "source": []
  },
  {
   "cell_type": "code",
   "execution_count": null,
   "id": "4db11aa9-88d5-4181-add3-3b153cae1b5d",
   "metadata": {},
   "outputs": [],
   "source": []
  }
 ],
 "metadata": {
  "kernelspec": {
   "display_name": "Python [conda env:base] *",
   "language": "python",
   "name": "conda-base-py"
  },
  "language_info": {
   "codemirror_mode": {
    "name": "ipython",
    "version": 3
   },
   "file_extension": ".py",
   "mimetype": "text/x-python",
   "name": "python",
   "nbconvert_exporter": "python",
   "pygments_lexer": "ipython3",
   "version": "3.12.7"
  }
 },
 "nbformat": 4,
 "nbformat_minor": 5
}
