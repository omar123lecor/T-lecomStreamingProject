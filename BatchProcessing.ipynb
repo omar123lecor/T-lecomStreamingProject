{
 "cells": [
  {
   "cell_type": "code",
   "execution_count": 1,
   "id": "a79674de-ee93-4be5-a5fa-6c17d7cd3ed7",
   "metadata": {},
   "outputs": [],
   "source": [
    "from pyspark.sql import SparkSession\n",
    "from pyspark.sql.functions import *\n",
    "from pyspark.sql.types import *\n",
    "import os\n",
    "from sqlalchemy import create_engine"
   ]
  },
  {
   "cell_type": "code",
   "execution_count": 2,
   "id": "c2633130-2af3-46fc-979d-701c958234ad",
   "metadata": {},
   "outputs": [
    {
     "name": "stderr",
     "output_type": "stream",
     "text": [
      "25/06/10 21:27:51 WARN Utils: Your hostname, omar-VirtualBox resolves to a loopback address: 127.0.0.1; using 192.168.0.181 instead (on interface enp0s3)\n",
      "25/06/10 21:27:51 WARN Utils: Set SPARK_LOCAL_IP if you need to bind to another address\n",
      "25/06/10 21:27:52 WARN NativeCodeLoader: Unable to load native-hadoop library for your platform... using builtin-java classes where applicable\n",
      "Setting default log level to \"WARN\".\n",
      "To adjust logging level use sc.setLogLevel(newLevel). For SparkR, use setLogLevel(newLevel).\n",
      "25/06/10 21:27:52 WARN SparkConf: Note that spark.local.dir will be overridden by the value set by the cluster manager (via SPARK_LOCAL_DIRS in mesos/standalone/kubernetes and LOCAL_DIRS in YARN).\n"
     ]
    }
   ],
   "source": [
    "os.makedirs(\"/home/omar/spark-temp-batch\", exist_ok=True)\n",
    "\n",
    "# Crée une session Spark indépendante pour le batch\n",
    "spark = SparkSession.builder \\\n",
    "    .appName(\"BatchApp\") \\\n",
    "    .config(\"spark.local.dir\", \"/home/omar/spark-temp-batch\") \\\n",
    "    .config(\"spark.ui.port\", \"4051\") \\\n",
    "    .config(\"spark.jars\",\"/home/omar/libs/postgresql-42.6.0.jar\") \\\n",
    "    .getOrCreate()\n"
   ]
  },
  {
   "cell_type": "code",
   "execution_count": 3,
   "id": "8a8ffe9f-489f-4d29-a0c3-c617659e69cf",
   "metadata": {},
   "outputs": [],
   "source": [
    "\n",
    "\n",
    "# Remplace les valeurs ci-dessous par les tiennes\n",
    "df = spark.read.format(\"jdbc\").option(\"url\", \"jdbc:postgresql://192.168.0.135:5432/telecom_db\") \\\n",
    "    .option(\"dbtable\", \"customers\") \\\n",
    "    .option(\"user\", \"postgres\") \\\n",
    "    .option(\"password\", \"123\") \\\n",
    "    .option(\"driver\", \"org.postgresql.Driver\") \\\n",
    "    .load()\n",
    "\n"
   ]
  },
  {
   "cell_type": "code",
   "execution_count": 5,
   "id": "ec214af6-0b39-4ef1-8f4b-1e2db542be31",
   "metadata": {},
   "outputs": [
    {
     "name": "stderr",
     "output_type": "stream",
     "text": [
      "                                                                                \r"
     ]
    },
    {
     "name": "stdout",
     "output_type": "stream",
     "text": [
      "+--------------------+------------+-----------------+------------+---------------+----------+-------------+----------+-------------+\n",
      "|         customer_id|      msisdn|    customer_name|rate_plan_id|activation_date|    status|       region|is_student|loyalty_start|\n",
      "+--------------------+------------+-----------------+------------+---------------+----------+-------------+----------+-------------+\n",
      "|567ce95c-6719-4f6...|212616417735|     Omar Belkadi|           9|     2022-04-27| suspended|   Errachidia|     false|   2022-08-11|\n",
      "|8d66974a-6e29-419...|212618907384|     Imane Jabari|           3|     2021-01-09|terminated|  Beni Mellal|     false|         NULL|\n",
      "|1dd6eb30-b835-46d...|212675899785|     Ahmed Lahcen|           4|     2024-08-02|terminated|rural_central|     false|         NULL|\n",
      "|2a5cf491-d076-453...|212675676874|    Youssef Dahbi|           1|     2021-12-07|    active|international|     false|         NULL|\n",
      "|50dc9474-710a-46d...|212699322434|      Imane Dahbi|           2|     2021-01-12|    active|      Tangier|     false|   2023-01-28|\n",
      "|e153279a-465c-4d7...|212617546761|     Fatima Dahbi|           5|     2024-12-30|    active|international|     false|         NULL|\n",
      "|398a6d5a-4c8d-4ae...|212682579012|  Youssef Belkadi|           4|     2025-03-03|    active|  rural_south|     false|         NULL|\n",
      "|106a1cde-4fc3-457...|212623034929|    Salma Choukri|           2|     2023-09-24|    active|          Fes|     false|   2024-01-13|\n",
      "|0274b238-96f9-486...|212661053810|    Ahmed Choukri|           4|     2021-03-17|    active|          Fes|     false|   2023-07-27|\n",
      "|06c1e018-0b7b-487...|212645214366|   Fatima Belkadi|           1|     2025-01-06|    active|        Rabat|     false|         NULL|\n",
      "|b81e8f6e-6aa5-44f...|212646126635|    Ahmed Choukri|           8|     2020-01-03|    active|  Beni Mellal|     false|   2022-02-25|\n",
      "|0073cab6-0bc2-4ef...|212640824449|Mohamed El Amrani|           6|     2024-12-17|    active|      Kenitra|     false|   2025-04-09|\n",
      "|ed12c268-2af9-4d8...|212675038506|  Fatima Mansouri|           9|     2024-03-24|    active|         Safi|     false|   2024-10-19|\n",
      "|7577bc21-60f5-41a...|212671687942|     Abdel Jabari|           7|     2024-05-22|terminated|   Casablanca|      true|   2025-02-28|\n",
      "|5fd4c0a7-12b7-472...|212683346153|      Ahmed Haqiq|           2|     2024-04-19|terminated|       Agadir|     false|   2024-07-28|\n",
      "|145c3a06-ed07-4b8...|212671005307|    Youssef Fassi|           5|     2025-04-08|    active|        Rabat|     false|         NULL|\n",
      "|8dcff07c-f553-420...|212641762936|      Imane Dahbi|           5|     2022-12-06| suspended|         Safi|     false|         NULL|\n",
      "|b1f100d2-c05b-495...|212624292612| Abdel Ezzarouali|           6|     2025-01-21|    active|      Kenitra|     false|         NULL|\n",
      "|f157e9d6-31f9-461...|212651061837|   Salma Mansouri|           8|     2021-03-07| suspended|          Fes|     false|         NULL|\n",
      "|72b9edd9-0fba-41f...|212697016409| Hassan El Amrani|           5|     2024-02-23|    active|         Safi|     false|   2025-02-25|\n",
      "+--------------------+------------+-----------------+------------+---------------+----------+-------------+----------+-------------+\n",
      "only showing top 20 rows\n",
      "\n"
     ]
    }
   ],
   "source": [
    "df.show()"
   ]
  },
  {
   "cell_type": "code",
   "execution_count": 6,
   "id": "d397544e-0be7-4066-8909-2375f16d0301",
   "metadata": {},
   "outputs": [],
   "source": [
    "\n",
    "db_url = \"jdbc:postgresql://192.168.0.135:5432/telecom_db\"\n",
    "tables = {\n",
    "    \"normalized_events\": \"clean_stream\",\n",
    "    \"customers\": \"customers\",\n",
    "    \"product_catalog\": \"product_catalog\",\n",
    "    \"product_rates\": \"product_rates\",\n",
    "    \"rate_plans\": \"rate_plans\",\n",
    "    \"billing_cycles\": \"billing_cycles\",\n",
    "    \"promotions\": \"promotions\",\n",
    "    \"tax_rules\": \"tax_rules\"\n",
    "}\n",
    "properties = {\n",
    "    \"user\": \"postgres\",\n",
    "    \"password\": \"123\",\n",
    "    \"driver\": \"org.postgresql.Driver\"\n",
    "}\n",
    "dfs = {}\n",
    "for name, table in tables.items():\n",
    "    dfs[name] = spark.read.jdbc(\n",
    "        url=db_url,\n",
    "        table=table,\n",
    "        properties=properties\n",
    "    ).cache()"
   ]
  },
  {
   "cell_type": "code",
   "execution_count": 9,
   "id": "819974f1-da64-447b-b1bf-5b75191d434c",
   "metadata": {},
   "outputs": [
    {
     "name": "stderr",
     "output_type": "stream",
     "text": [
      "                                                                                \r"
     ]
    },
    {
     "name": "stdout",
     "output_type": "stream",
     "text": [
      "+-----------+-------------------+------------+------------+---------+-----------+-------+------------+--------------------+--------------+----------+----------+--------------------+--------------------+-------------------+------------+-----------------+----------+\n",
      "|record_type|          timestamp|   caller_id|   callee_id|sender_id|receiver_id|user_id|duration_sec|session_duration_sec|data_volume_mb|   cell_id|technology|normalized_caller_id|normalized_callee_id|normalized_duration|      msisdn|normalized_volume|error_flag|\n",
      "+-----------+-------------------+------------+------------+---------+-----------+-------+------------+--------------------+--------------+----------+----------+--------------------+--------------------+-------------------+------------+-----------------+----------+\n",
      "|      voice|2025-05-01 00:59:59|212685152914|212748091911|     NULL|       NULL|   NULL|         228|                NULL|          NULL|Al Hoceïma|        5G|        212685152914|        212748091911|              228.0|212685152914|             NULL|     False|\n",
      "|      voice|2025-04-30 06:21:38|212663995003|212764890514|     NULL|       NULL|   NULL|         318|                NULL|          NULL|Al Hoceïma|        3G|        212663995003|        212764890514|              318.0|212663995003|             NULL|     False|\n",
      "|      voice|2025-05-01 00:59:59|212649454638|212748091911|     NULL|       NULL|   NULL|         337|                NULL|          NULL|     Oujda|        5G|        212649454638|        212748091911|              337.0|212649454638|             NULL|     False|\n",
      "|      voice|2025-04-30 08:22:02|212638580516|212783139594|     NULL|       NULL|   NULL|         124|                NULL|          NULL|    Tanger|        5G|        212638580516|        212783139594|              124.0|212638580516|             NULL|     False|\n",
      "|      voice|2025-05-01 00:59:59|212650847175|212774064199|     NULL|       NULL|   NULL|         226|                NULL|          NULL|Al Hoceïma|        3G|        212650847175|        212774064199|              226.0|212650847175|             NULL|     False|\n",
      "|      voice|2025-04-27 18:04:09|212670057643|212764890514|     NULL|       NULL|   NULL|         271|                NULL|          NULL|      Salé|        4G|        212670057643|        212764890514|              271.0|212670057643|             NULL|     False|\n",
      "|      voice|2025-05-01 00:59:59|212638425609|212774064199|     NULL|       NULL|   NULL|         411|                NULL|          NULL|    Meknès|        4G|        212638425609|        212774064199|              411.0|212638425609|             NULL|     False|\n",
      "|      voice|2025-05-01 00:59:59|212674068317|212783139594|     NULL|       NULL|   NULL|         241|                NULL|          NULL|       Fès|        2G|        212674068317|        212783139594|              241.0|212674068317|             NULL|     False|\n",
      "|      voice|2025-04-20 07:24:16|212609911433|212774064199|     NULL|       NULL|   NULL|          12|                NULL|          NULL|     Nador|        2G|        212609911433|        212774064199|               12.0|212609911433|             NULL|     False|\n",
      "|      voice|2025-05-01 00:59:59|212669371188|212769770854|     NULL|       NULL|   NULL|         149|                NULL|          NULL|      Salé|       LTE|        212669371188|        212769770854|              149.0|212669371188|             NULL|     False|\n",
      "|      voice|2025-05-01 00:59:59|212666439283|212755967330|     NULL|       NULL|   NULL|         130|                NULL|          NULL| Marrakech|        5G|        212666439283|        212755967330|              130.0|212666439283|             NULL|     False|\n",
      "|      voice|2025-05-01 00:59:59|212640873675|212743964664|     NULL|       NULL|   NULL|         210|                NULL|          NULL|    Tiznit|        3G|        212640873675|        212743964664|              210.0|212640873675|             NULL|     False|\n",
      "|      voice|2025-04-29 15:27:57|212608990397|212781625119|     NULL|       NULL|   NULL|          32|                NULL|          NULL|    Tiznit|        3G|        212608990397|        212781625119|               32.0|212608990397|             NULL|     False|\n",
      "|      voice|2025-05-01 00:59:59|212650482592|212740690752|     NULL|       NULL|   NULL|         485|                NULL|          NULL|    Meknès|        4G|        212650482592|        212740690752|              485.0|212650482592|             NULL|     False|\n",
      "|      voice|2025-05-01 00:59:59|212627615810|212774064199|     NULL|       NULL|   NULL|         346|                NULL|          NULL|     Oujda|        5G|        212627615810|        212774064199|              346.0|212627615810|             NULL|     False|\n",
      "|      voice|2025-04-28 08:30:01|212617121625|212755967330|     NULL|       NULL|   NULL|         374|                NULL|          NULL|     Oujda|        3G|        212617121625|        212755967330|              374.0|212617121625|             NULL|     False|\n",
      "|      voice|2025-05-01 00:59:59|212641762936|212783139594|     NULL|       NULL|   NULL|          56|                NULL|          NULL|Casablanca|        2G|        212641762936|        212783139594|               56.0|212641762936|             NULL|     False|\n",
      "|      voice|2025-05-01 00:59:59|212628480044|212764890514|     NULL|       NULL|   NULL|         463|                NULL|          NULL|     Nador|       LTE|        212628480044|        212764890514|              463.0|212628480044|             NULL|     False|\n",
      "|      voice|2025-05-01 00:59:59|212678090849|212740690752|     NULL|       NULL|   NULL|         493|                NULL|          NULL|     Rabat|        3G|        212678090849|        212740690752|              493.0|212678090849|             NULL|     False|\n",
      "|      voice|2025-05-01 00:59:59|212625610429|212724479909|     NULL|       NULL|   NULL|         248|                NULL|          NULL|Sidi Kacem|        3G|        212625610429|        212724479909|              248.0|212625610429|             NULL|     False|\n",
      "+-----------+-------------------+------------+------------+---------+-----------+-------+------------+--------------------+--------------+----------+----------+--------------------+--------------------+-------------------+------------+-----------------+----------+\n",
      "only showing top 20 rows\n",
      "\n"
     ]
    }
   ],
   "source": [
    "dfs[\"normalized_events\"].show()"
   ]
  },
  {
   "cell_type": "code",
   "execution_count": 11,
   "id": "b5629e61-f608-4045-a6f7-2517607ce9b6",
   "metadata": {},
   "outputs": [],
   "source": [
    "# Filtrer uniquement les clients actifs et postpaid\n",
    "active_customers = dfs[\"customers\"].filter(\n",
    "    (col(\"status\") == \"active\") \n",
    ")\n",
    "\n",
    "# Jointure entre événements et clients\n",
    "events_customers = dfs[\"normalized_events\"].join(\n",
    "    active_customers,\n",
    "    \"msisdn\",\n",
    "    \"inner\"\n",
    ")\n",
    "\n",
    "# Ajouter le type de service basé sur record_type\n",
    "events_customers = events_customers.withColumn(\n",
    "    \"service_type\",\n",
    "    when(col(\"record_type\") == \"voice\", \"voice\")\n",
    "    .when(col(\"record_type\") == \"sms\", \"sms\")\n",
    "    .when(col(\"record_type\") == \"data\", \"data\")\n",
    ")"
   ]
  },
  {
   "cell_type": "code",
   "execution_count": 17,
   "id": "79f5b212-2c11-4574-b023-b9bb15f22377",
   "metadata": {},
   "outputs": [],
   "source": [
    "\n",
    "\n",
    "# Étape 1 : jointure avec product_catalog\n",
    "events_with_products = events_customers.join(\n",
    "    dfs[\"product_catalog\"].alias(\"catalog\"),\n",
    "    \"service_type\",\n",
    "    \"left\"\n",
    ")\n",
    "\n",
    "# Étape 2 : jointure avec product_rates\n",
    "rated_events = events_with_products.alias(\"events\").join(\n",
    "    dfs[\"product_rates\"].alias(\"rates\"),\n",
    "    (col(\"events.rate_plan_id\") == col(\"rates.rate_plan_id\")) &\n",
    "    (col(\"events.product_code\") == col(\"rates.product_code\")),\n",
    "    \"left\"\n",
    ")\n",
    "\n"
   ]
  },
  {
   "cell_type": "code",
   "execution_count": 19,
   "id": "26cd02aa-aadc-4c08-89c5-731c6b6de6b3",
   "metadata": {},
   "outputs": [],
   "source": [
    "rated_events = rated_events.withColumn(\n",
    "    \"base_cost\",\n",
    "    when(col(\"service_type\") == \"voice\", col(\"duration_sec\") * col(\"unit_price\"))\n",
    "    .when(col(\"service_type\") == \"sms\", lit(1) * col(\"unit_price\"))  # 1 SMS = 1 événement\n",
    "    .when(col(\"service_type\") == \"data\", col(\"data_volume_mb\") * col(\"unit_price\"))\n",
    ")\n",
    "\n",
    "# Application des modificateurs temporels (exemple simplifié)\n",
    "rated_events = rated_events.withColumn(\n",
    "    \"time_multiplier\",\n",
    "    when(hour(col(\"timestamp\")).between(9, 17), 1.2).otherwise(1.0)  # Peak/Off-peak\n",
    ").withColumn(\n",
    "    \"adjusted_cost\", \n",
    "    col(\"base_cost\") * col(\"time_multiplier\")\n",
    ")"
   ]
  },
  {
   "cell_type": "code",
   "execution_count": 23,
   "id": "ddadd522-d921-4c01-ba87-2d4375ca241c",
   "metadata": {},
   "outputs": [
    {
     "name": "stdout",
     "output_type": "stream",
     "text": [
      "root\n",
      " |-- service_type: string (nullable = true)\n",
      " |-- msisdn: string (nullable = true)\n",
      " |-- record_type: string (nullable = true)\n",
      " |-- timestamp: timestamp (nullable = true)\n",
      " |-- caller_id: string (nullable = true)\n",
      " |-- callee_id: string (nullable = true)\n",
      " |-- sender_id: string (nullable = true)\n",
      " |-- receiver_id: string (nullable = true)\n",
      " |-- user_id: string (nullable = true)\n",
      " |-- duration_sec: integer (nullable = true)\n",
      " |-- session_duration_sec: double (nullable = true)\n",
      " |-- data_volume_mb: double (nullable = true)\n",
      " |-- cell_id: string (nullable = true)\n",
      " |-- technology: string (nullable = true)\n",
      " |-- normalized_caller_id: string (nullable = true)\n",
      " |-- normalized_callee_id: string (nullable = true)\n",
      " |-- normalized_duration: double (nullable = true)\n",
      " |-- normalized_volume: double (nullable = true)\n",
      " |-- error_flag: string (nullable = true)\n",
      " |-- customer_id: string (nullable = true)\n",
      " |-- customer_name: string (nullable = true)\n",
      " |-- rate_plan_id: integer (nullable = true)\n",
      " |-- activation_date: date (nullable = true)\n",
      " |-- status: string (nullable = true)\n",
      " |-- region: string (nullable = true)\n",
      " |-- is_student: boolean (nullable = true)\n",
      " |-- loyalty_start: date (nullable = true)\n",
      " |-- product_code: string (nullable = true)\n",
      " |-- unit: string (nullable = true)\n",
      " |-- rate_type: string (nullable = true)\n",
      " |-- rate_plan_id: integer (nullable = true)\n",
      " |-- product_code: string (nullable = true)\n",
      " |-- unit_price: decimal(10,4) (nullable = true)\n",
      " |-- free_units: decimal(12,2) (nullable = true)\n",
      " |-- tier_threshold: decimal(12,2) (nullable = true)\n",
      " |-- tier_price: decimal(10,4) (nullable = true)\n",
      " |-- time_modifier: string (nullable = true)\n",
      " |-- zone_modifier: string (nullable = true)\n",
      " |-- base_cost: double (nullable = true)\n",
      " |-- time_multiplier: double (nullable = false)\n",
      " |-- adjusted_cost: double (nullable = true)\n",
      "\n"
     ]
    }
   ],
   "source": [
    "rated_events.printSchema()"
   ]
  },
  {
   "cell_type": "raw",
   "id": "0ff18127-4c78-4d19-98ea-b18b2f4732ae",
   "metadata": {},
   "source": []
  },
  {
   "cell_type": "code",
   "execution_count": 25,
   "id": "43dc70a7-08c1-4fe8-aa71-3f1d42f1b342",
   "metadata": {},
   "outputs": [],
   "source": [
    "from pyspark.sql.types import StructType\n",
    "\n",
    "# Récupérer le schéma du DataFrame existant\n",
    "schema = rated_events.schema\n",
    "\n",
    "# Créer un DataFrame vide avec le même schéma\n",
    "df_vide = spark.createDataFrame([], schema)"
   ]
  },
  {
   "cell_type": "code",
   "execution_count": 26,
   "id": "956cc566-ea03-4f54-81eb-c3ebd1617c36",
   "metadata": {},
   "outputs": [],
   "source": [
    "colonnes = [\"adjusted_cost\", \"base_cost\", \"customer_name\",\"customer_id\"]\n",
    "df_new_rated = rated_events.select(colonnes)"
   ]
  },
  {
   "cell_type": "code",
   "execution_count": null,
   "id": "08b1803c-f770-4643-a68c-15bc5ed96010",
   "metadata": {},
   "outputs": [],
   "source": [
    "df_new_rated.show(100)"
   ]
  },
  {
   "cell_type": "code",
   "execution_count": 31,
   "id": "31c07871-3a9d-4566-b3e3-e5d7221fd84c",
   "metadata": {},
   "outputs": [
    {
     "name": "stderr",
     "output_type": "stream",
     "text": [
      "[Stage 39:>                                                         (0 + 1) / 1]\r"
     ]
    },
    {
     "name": "stdout",
     "output_type": "stream",
     "text": [
      "+--------------------+-----------------+------------------+\n",
      "|         customer_id|    customer_name|   total_base_cost|\n",
      "+--------------------+-----------------+------------------+\n",
      "|e774b96d-9d1a-446...|   Fatima Idrissi| 2835.056100000001|\n",
      "|c84f754a-e615-4ef...|      Nora Lahcen| 2407.335771999998|\n",
      "|f20443c6-bcc7-408...|  Youssef Idrissi|1322.6277540000008|\n",
      "|54f1469d-e0da-4be...|      Nora Gharbi|2884.7758840000015|\n",
      "|58060ca1-6e54-486...|   Fatima Belkadi|2498.4831000000013|\n",
      "|5fdcef74-3141-43b...|   Youssef Gharbi|2035.4662440000004|\n",
      "|399e817e-6ff4-438...|    Salma Idrissi|1822.9705999999994|\n",
      "|d48c8867-9e02-4e4...|Khadija El Amrani|2666.7378000000017|\n",
      "|0dd992d5-7c3a-4ae...|     Fatima Fassi|1982.1301279999998|\n",
      "|fe9df7dd-8c28-459...|    Imane Choukri| 4457.073206000002|\n",
      "|9aa188f7-58d3-482...|    Hassan Gharbi|2797.3998759999977|\n",
      "|ff86d842-0d96-43b...|      Imane Haqiq|         3191.7159|\n",
      "|8f388b1e-b65b-49b...|       Nora Dahbi|3140.8918990000006|\n",
      "|0fc63ea4-209e-4be...|   Abdel Mansouri|3620.4270999999994|\n",
      "|7f9a4052-c1d6-4a4...|   Khadija Karimi|1605.9026000000013|\n",
      "|516b9f7c-db51-4ff...|    Karim Belkadi|       2952.945976|\n",
      "|d70d51a1-bcc2-4e1...|    Mohamed Haqiq| 3016.720575999997|\n",
      "|9707e830-ec31-498...|     Ahmed Gharbi| 1789.331000000001|\n",
      "|29a69a2e-549e-464...|     Karim Karimi|1767.8952019999986|\n",
      "|639d9e6b-e15c-473...|   Hassan Idrissi| 3162.478024000002|\n",
      "+--------------------+-----------------+------------------+\n",
      "only showing top 20 rows\n",
      "\n"
     ]
    },
    {
     "name": "stderr",
     "output_type": "stream",
     "text": [
      "                                                                                \r"
     ]
    }
   ],
   "source": [
    "df_new_rated.groupBy(\"customer_id\", \"customer_name\").agg(\n",
    "    sum(\"base_cost\").alias(\"total_base_cost\")\n",
    ").show()"
   ]
  },
  {
   "cell_type": "markdown",
   "id": "eda48a45-1600-437f-9fc3-bef8bf1ae3e6",
   "metadata": {},
   "source": [
    "# Étape 6: Gestion des erreurs et statuts"
   ]
  },
  {
   "cell_type": "code",
   "execution_count": 34,
   "id": "5ba58855-93dd-40e7-879b-b4c8db838b48",
   "metadata": {},
   "outputs": [],
   "source": [
    "rated_events = rated_events.withColumn(\n",
    "    \"rating_status\",\n",
    "    when(col(\"events.product_code\").isNull(), \"unmatched\")\n",
    "    .when(col(\"events.duration_sec\").isNull() & (col(\"events.service_type\") == \"voice\"), \"error\")\n",
    "    .when(col(\"events.data_volume_mb\").isNull() & (col(\"events.service_type\") == \"data\"), \"error\")\n",
    "    .otherwise(\"rated\")\n",
    ")\n",
    "\n",
    "# Filtrage\n",
    "error_events = rated_events.filter(col(\"rating_status\") != \"rated\")\n",
    "valid_events = rated_events.filter(col(\"rating_status\") == \"rated\")"
   ]
  },
  {
   "cell_type": "markdown",
   "id": "746ac0b5-6c3d-4085-a9c7-7229224103d7",
   "metadata": {},
   "source": [
    "# Étape 7: Application des promotions"
   ]
  },
  {
   "cell_type": "code",
   "execution_count": 35,
   "id": "30b5966e-8839-4ac4-ada7-a19e12de3ffc",
   "metadata": {},
   "outputs": [],
   "source": [
    "valid_events = valid_events.withColumn(\n",
    "    \"discount_amount\",\n",
    "    when(col(\"is_student\"), col(\"adjusted_cost\") * 0.1).otherwise(0)\n",
    ").withColumn(\n",
    "    \"final_cost\",\n",
    "    col(\"adjusted_cost\") - col(\"discount_amount\")\n",
    ")\n",
    "\n",
    "# Appliquer les promotions de fidélité (>12 mois)\n",
    "valid_events = valid_events.withColumn(\n",
    "    \"loyalty_discount\",\n",
    "    when(months_between(current_date(), col(\"loyalty_start\")) > 12, \n",
    "         col(\"final_cost\") * 0.05).otherwise(0)\n",
    ").withColumn(\n",
    "    \"final_cost\",\n",
    "    col(\"final_cost\") - col(\"loyalty_discount\")\n",
    ")"
   ]
  },
  {
   "cell_type": "code",
   "execution_count": 37,
   "id": "783a1925-829b-4bfe-ab43-67cff20d8b64",
   "metadata": {},
   "outputs": [
    {
     "name": "stdout",
     "output_type": "stream",
     "text": [
      "root\n",
      " |-- service_type: string (nullable = true)\n",
      " |-- msisdn: string (nullable = true)\n",
      " |-- record_type: string (nullable = true)\n",
      " |-- timestamp: timestamp (nullable = true)\n",
      " |-- caller_id: string (nullable = true)\n",
      " |-- callee_id: string (nullable = true)\n",
      " |-- sender_id: string (nullable = true)\n",
      " |-- receiver_id: string (nullable = true)\n",
      " |-- user_id: string (nullable = true)\n",
      " |-- duration_sec: integer (nullable = true)\n",
      " |-- session_duration_sec: double (nullable = true)\n",
      " |-- data_volume_mb: double (nullable = true)\n",
      " |-- cell_id: string (nullable = true)\n",
      " |-- technology: string (nullable = true)\n",
      " |-- normalized_caller_id: string (nullable = true)\n",
      " |-- normalized_callee_id: string (nullable = true)\n",
      " |-- normalized_duration: double (nullable = true)\n",
      " |-- normalized_volume: double (nullable = true)\n",
      " |-- error_flag: string (nullable = true)\n",
      " |-- customer_id: string (nullable = true)\n",
      " |-- customer_name: string (nullable = true)\n",
      " |-- rate_plan_id: integer (nullable = true)\n",
      " |-- activation_date: date (nullable = true)\n",
      " |-- status: string (nullable = true)\n",
      " |-- region: string (nullable = true)\n",
      " |-- is_student: boolean (nullable = true)\n",
      " |-- loyalty_start: date (nullable = true)\n",
      " |-- product_code: string (nullable = true)\n",
      " |-- unit: string (nullable = true)\n",
      " |-- rate_type: string (nullable = true)\n",
      " |-- rate_plan_id: integer (nullable = true)\n",
      " |-- product_code: string (nullable = true)\n",
      " |-- unit_price: decimal(10,4) (nullable = true)\n",
      " |-- free_units: decimal(12,2) (nullable = true)\n",
      " |-- tier_threshold: decimal(12,2) (nullable = true)\n",
      " |-- tier_price: decimal(10,4) (nullable = true)\n",
      " |-- time_modifier: string (nullable = true)\n",
      " |-- zone_modifier: string (nullable = true)\n",
      " |-- base_cost: double (nullable = true)\n",
      " |-- time_multiplier: double (nullable = false)\n",
      " |-- adjusted_cost: double (nullable = true)\n",
      " |-- rating_status: string (nullable = false)\n",
      " |-- discount_amount: double (nullable = true)\n",
      " |-- final_cost: double (nullable = true)\n",
      " |-- loyalty_discount: double (nullable = true)\n",
      "\n"
     ]
    }
   ],
   "source": [
    "valid_events.printSchema()"
   ]
  },
  {
   "cell_type": "markdown",
   "id": "ec05bbc9-fdef-43e2-8bd1-9885486279d0",
   "metadata": {},
   "source": [
    "# Étape 8: Enregistrement des résultats"
   ]
  },
  {
   "cell_type": "code",
   "execution_count": 54,
   "id": "3eb8512d-403d-4f31-9515-594dc9522dcc",
   "metadata": {},
   "outputs": [],
   "source": [
    "# Sélection des colonnes finales\n",
    "final_rated_events = valid_events.select(\n",
    "    \"msisdn\",\n",
    "    \"customer_id\",\n",
    "    \"customer_name\",\n",
    "    \"record_type\",\n",
    "    \"timestamp\",\n",
    "    \"service_type\",\n",
    "    \"base_cost\",\n",
    "    \"adjusted_cost\",\n",
    "    \"discount_amount\",\n",
    "    \"final_cost\",\n",
    "    \"rating_status\",\n",
    "    \"`events`.`rate_plan_id`\",\n",
    "    \"`events`.`product_code`\"\n",
    ")\n"
   ]
  },
  {
   "cell_type": "code",
   "execution_count": 55,
   "id": "b4b2a3a9-5522-423d-9c75-1b04e34ed973",
   "metadata": {},
   "outputs": [
    {
     "name": "stdout",
     "output_type": "stream",
     "text": [
      "root\n",
      " |-- msisdn: string (nullable = true)\n",
      " |-- customer_id: string (nullable = true)\n",
      " |-- customer_name: string (nullable = true)\n",
      " |-- record_type: string (nullable = true)\n",
      " |-- timestamp: timestamp (nullable = true)\n",
      " |-- service_type: string (nullable = true)\n",
      " |-- base_cost: double (nullable = true)\n",
      " |-- adjusted_cost: double (nullable = true)\n",
      " |-- discount_amount: double (nullable = true)\n",
      " |-- final_cost: double (nullable = true)\n",
      " |-- rating_status: string (nullable = false)\n",
      " |-- rate_plan_id: integer (nullable = true)\n",
      " |-- product_code: string (nullable = true)\n",
      "\n"
     ]
    }
   ],
   "source": [
    "final_rated_events.printSchema()"
   ]
  },
  {
   "cell_type": "code",
   "execution_count": 69,
   "id": "5ee3703f-f213-438c-a60b-28685aa1d637",
   "metadata": {},
   "outputs": [],
   "source": [
    "df_with_month = final_rated_events.withColumn(\"month\", month(col(\"timestamp\")))\n",
    "\n",
    "# Puis agrégation en groupant aussi par \"month\" si tu souhaites regrouper par mois\n",
    "billing_df = df_with_month.groupBy(\"customer_id\", \"customer_name\", \"month\").agg(\n",
    "    sum(\"final_cost\").alias(\"total_final_cost\"),\n",
    "    sum(\"base_cost\").alias(\"before_promo\")\n",
    ")"
   ]
  },
  {
   "cell_type": "code",
   "execution_count": 73,
   "id": "f5cc9b72-ddd1-44fa-8877-52ea3cb5a345",
   "metadata": {},
   "outputs": [
    {
     "name": "stdout",
     "output_type": "stream",
     "text": [
      "+------------+--------------------+--------------+-----------+-------------------+------------+---------+-------------+------------------+------------------+-------------+------------+----------------+-----+\n",
      "|      msisdn|         customer_id| customer_name|record_type|          timestamp|service_type|base_cost|adjusted_cost|   discount_amount|        final_cost|rating_status|rate_plan_id|    product_code|month|\n",
      "+------------+--------------------+--------------+-----------+-------------------+------------+---------+-------------+------------------+------------------+-------------+------------+----------------+-----+\n",
      "|212685152914|f6a883bb-1afb-47a...|Ahmed Mansouri|      voice|2025-05-01 00:59:59|       voice|     5.13|         5.13|               0.0|              5.13|        rated|           2|     V_CORP_TIME|    5|\n",
      "|212685152914|f6a883bb-1afb-47a...|Ahmed Mansouri|      voice|2025-05-01 00:59:59|       voice|   3.0552|       3.0552|               0.0|            3.0552|        rated|           2|    V_EVENT_TIME|    5|\n",
      "|212685152914|f6a883bb-1afb-47a...|Ahmed Mansouri|      voice|2025-05-01 00:59:59|       voice|   6.2472|       6.2472|               0.0|            6.2472|        rated|           2|      V_BIZ_FLAT|    5|\n",
      "|212685152914|f6a883bb-1afb-47a...|Ahmed Mansouri|      voice|2025-05-01 00:59:59|       voice|   6.3612|       6.3612|               0.0|            6.3612|        rated|           2|    V_NIGHT_TIER|    5|\n",
      "|212685152914|f6a883bb-1afb-47a...|Ahmed Mansouri|      voice|2025-05-01 00:59:59|       voice|   5.9736|       5.9736|               0.0|            5.9736|        rated|           2|    V_CONFERENCE|    5|\n",
      "|212685152914|f6a883bb-1afb-47a...|Ahmed Mansouri|      voice|2025-05-01 00:59:59|       voice|   8.2308|       8.2308|               0.0|            8.2308|        rated|           2|   V_MARKET_TIER|    5|\n",
      "|212685152914|f6a883bb-1afb-47a...|Ahmed Mansouri|      voice|2025-05-01 00:59:59|       voice|  10.6476|      10.6476|               0.0|           10.6476|        rated|           2|      V_EDU_FLAT|    5|\n",
      "|212685152914|f6a883bb-1afb-47a...|Ahmed Mansouri|      voice|2025-05-01 00:59:59|       voice|   5.3808|       5.3808|               0.0|            5.3808|        rated|           2|   V_TRAVEL_TIER|    5|\n",
      "|212685152914|f6a883bb-1afb-47a...|Ahmed Mansouri|      voice|2025-05-01 00:59:59|       voice|  10.9668|      10.9668|               0.0|           10.9668|        rated|           2|   V_FAMILY_TIME|    5|\n",
      "|212685152914|f6a883bb-1afb-47a...|Ahmed Mansouri|      voice|2025-05-01 00:59:59|       voice|    6.954|        6.954|               0.0|             6.954|        rated|           2|  V_SPECIAL_TIER|    5|\n",
      "|212685152914|f6a883bb-1afb-47a...|Ahmed Mansouri|      voice|2025-05-01 00:59:59|       voice|  10.8984|      10.8984|               0.0|           10.8984|        rated|           2|  V_SPECIAL_FLAT|    5|\n",
      "|212685152914|f6a883bb-1afb-47a...|Ahmed Mansouri|      voice|2025-05-01 00:59:59|       voice|  11.2632|      11.2632|               0.0|           11.2632|        rated|           2|   V_EMP_FLAT_01|    5|\n",
      "|212685152914|f6a883bb-1afb-47a...|Ahmed Mansouri|      voice|2025-05-01 00:59:59|       voice|   5.3352|       5.3352|               0.0|            5.3352|        rated|           2|   V_GOV_FLAT_01|    5|\n",
      "|212685152914|f6a883bb-1afb-47a...|Ahmed Mansouri|      voice|2025-05-01 00:59:59|       voice|   9.0288|       9.0288|               0.0|            9.0288|        rated|           2| V_PROMO_TIER_01|    5|\n",
      "|212685152914|f6a883bb-1afb-47a...|Ahmed Mansouri|      voice|2025-05-01 00:59:59|       voice|   2.4852|       2.4852|               0.0|            2.4852|        rated|           2| V_PROMO_FLAT_01|    5|\n",
      "|212685152914|f6a883bb-1afb-47a...|Ahmed Mansouri|      voice|2025-05-01 00:59:59|       voice|   7.2504|       7.2504|               0.0|            7.2504|        rated|           2| V_NIGHT_TIME_01|    5|\n",
      "|212685152914|f6a883bb-1afb-47a...|Ahmed Mansouri|      voice|2025-05-01 00:59:59|       voice|   6.5436|       6.5436|               0.0|            6.5436|        rated|           2|V_BUNDLE_TIER_01|    5|\n",
      "|212685152914|f6a883bb-1afb-47a...|Ahmed Mansouri|      voice|2025-05-01 00:59:59|       voice|   8.5272|       8.5272|               0.0|            8.5272|        rated|           2|  V_WEEK_TIME_01|    5|\n",
      "|212685152914|f6a883bb-1afb-47a...|Ahmed Mansouri|      voice|2025-05-01 00:59:59|       voice|   4.1268|       4.1268|               0.0|            4.1268|        rated|           2|  V_WEEK_FLAT_01|    5|\n",
      "|212685152914|f6a883bb-1afb-47a...|Ahmed Mansouri|      voice|2025-05-01 00:59:59|       voice|  11.3544|      11.3544|               0.0|           11.3544|        rated|           2|  V_CORP_TIME_01|    5|\n",
      "|212685152914|f6a883bb-1afb-47a...|Ahmed Mansouri|      voice|2025-05-01 00:59:59|       voice|   4.4916|       4.4916|               0.0|            4.4916|        rated|           2|  V_CORP_TIER_01|    5|\n",
      "|212685152914|f6a883bb-1afb-47a...|Ahmed Mansouri|      voice|2025-05-01 00:59:59|       voice|   6.9312|       6.9312|               0.0|            6.9312|        rated|           2|  V_CORP_FLAT_01|    5|\n",
      "|212685152914|f6a883bb-1afb-47a...|Ahmed Mansouri|      voice|2025-05-01 00:59:59|       voice|  10.2372|      10.2372|               0.0|           10.2372|        rated|           2|  V_ROAM_TIME_02|    5|\n",
      "|212685152914|f6a883bb-1afb-47a...|Ahmed Mansouri|      voice|2025-05-01 00:59:59|       voice|   7.8204|       7.8204|               0.0|            7.8204|        rated|           2|  V_ROAM_TIME_01|    5|\n",
      "|212685152914|f6a883bb-1afb-47a...|Ahmed Mansouri|      voice|2025-05-01 00:59:59|       voice|   8.2308|       8.2308|               0.0|            8.2308|        rated|           2|  V_ROAM_TIER_02|    5|\n",
      "|212685152914|f6a883bb-1afb-47a...|Ahmed Mansouri|      voice|2025-05-01 00:59:59|       voice|   5.2212|       5.2212|               0.0|            5.2212|        rated|           2|  V_ROAM_TIER_01|    5|\n",
      "|212685152914|f6a883bb-1afb-47a...|Ahmed Mansouri|      voice|2025-05-01 00:59:59|       voice|   2.3712|       2.3712|               0.0|            2.3712|        rated|           2|  V_ROAM_FLAT_02|    5|\n",
      "|212685152914|f6a883bb-1afb-47a...|Ahmed Mansouri|      voice|2025-05-01 00:59:59|       voice|   4.3548|       4.3548|               0.0|            4.3548|        rated|           2|  V_ROAM_FLAT_01|    5|\n",
      "|212685152914|f6a883bb-1afb-47a...|Ahmed Mansouri|      voice|2025-05-01 00:59:59|       voice|   9.8724|       9.8724|               0.0|            9.8724|        rated|           2|  V_INTL_TIME_02|    5|\n",
      "|212685152914|f6a883bb-1afb-47a...|Ahmed Mansouri|      voice|2025-05-01 00:59:59|       voice|  11.1948|      11.1948|               0.0|           11.1948|        rated|           2|  V_INTL_TIME_01|    5|\n",
      "|212685152914|f6a883bb-1afb-47a...|Ahmed Mansouri|      voice|2025-05-01 00:59:59|       voice|    6.498|        6.498|               0.0|             6.498|        rated|           2|  V_INTL_TIER_02|    5|\n",
      "|212685152914|f6a883bb-1afb-47a...|Ahmed Mansouri|      voice|2025-05-01 00:59:59|       voice|  11.3772|      11.3772|               0.0|           11.3772|        rated|           2|  V_INTL_TIER_01|    5|\n",
      "|212685152914|f6a883bb-1afb-47a...|Ahmed Mansouri|      voice|2025-05-01 00:59:59|       voice|  10.6248|      10.6248|               0.0|           10.6248|        rated|           2|  V_INTL_FLAT_02|    5|\n",
      "|212685152914|f6a883bb-1afb-47a...|Ahmed Mansouri|      voice|2025-05-01 00:59:59|       voice|     11.4|         11.4|               0.0|              11.4|        rated|           2|  V_INTL_FLAT_01|    5|\n",
      "|212685152914|f6a883bb-1afb-47a...|Ahmed Mansouri|      voice|2025-05-01 00:59:59|       voice|   7.3872|       7.3872|               0.0|            7.3872|        rated|           2|   V_NAT_TIME_02|    5|\n",
      "|212685152914|f6a883bb-1afb-47a...|Ahmed Mansouri|      voice|2025-05-01 00:59:59|       voice|   2.3256|       2.3256|               0.0|            2.3256|        rated|           2|   V_NAT_TIME_01|    5|\n",
      "|212685152914|f6a883bb-1afb-47a...|Ahmed Mansouri|      voice|2025-05-01 00:59:59|       voice|   4.6056|       4.6056|               0.0|            4.6056|        rated|           2|   V_NAT_TIER_02|    5|\n",
      "|212685152914|f6a883bb-1afb-47a...|Ahmed Mansouri|      voice|2025-05-01 00:59:59|       voice|   3.7848|       3.7848|               0.0|            3.7848|        rated|           2|   V_NAT_TIER_01|    5|\n",
      "|212685152914|f6a883bb-1afb-47a...|Ahmed Mansouri|      voice|2025-05-01 00:59:59|       voice|   5.4264|       5.4264|               0.0|            5.4264|        rated|           2|   V_NAT_FLAT_02|    5|\n",
      "|212685152914|f6a883bb-1afb-47a...|Ahmed Mansouri|      voice|2025-05-01 00:59:59|       voice|     7.98|         7.98|               0.0|              7.98|        rated|           2|   V_NAT_FLAT_01|    5|\n",
      "|212663995003|516b9f7c-db51-4ff...| Karim Belkadi|      voice|2025-04-30 06:21:38|       voice|   7.7274|       7.7274|               0.0|            7.7274|        rated|           3|     V_CORP_TIME|    4|\n",
      "|212663995003|516b9f7c-db51-4ff...| Karim Belkadi|      voice|2025-04-30 06:21:38|       voice|   5.4696|       5.4696|               0.0|            5.4696|        rated|           3|    V_EVENT_TIME|    4|\n",
      "|212663995003|516b9f7c-db51-4ff...| Karim Belkadi|      voice|2025-04-30 06:21:38|       voice|  10.1442|      10.1442|               0.0|           10.1442|        rated|           3|      V_BIZ_FLAT|    4|\n",
      "|212663995003|516b9f7c-db51-4ff...| Karim Belkadi|      voice|2025-04-30 06:21:38|       voice|   10.017|       10.017|               0.0|            10.017|        rated|           3|    V_NIGHT_TIER|    4|\n",
      "|212663995003|516b9f7c-db51-4ff...| Karim Belkadi|      voice|2025-04-30 06:21:38|       voice|  14.3418|      14.3418|               0.0|           14.3418|        rated|           3|    V_CONFERENCE|    4|\n",
      "|212663995003|516b9f7c-db51-4ff...| Karim Belkadi|      voice|2025-04-30 06:21:38|       voice|  13.5468|      13.5468|               0.0|           13.5468|        rated|           3|   V_MARKET_TIER|    4|\n",
      "|212663995003|516b9f7c-db51-4ff...| Karim Belkadi|      voice|2025-04-30 06:21:38|       voice|   3.2436|       3.2436|               0.0|            3.2436|        rated|           3|      V_EDU_FLAT|    4|\n",
      "|212663995003|516b9f7c-db51-4ff...| Karim Belkadi|      voice|2025-04-30 06:21:38|       voice|  13.9284|      13.9284|               0.0|           13.9284|        rated|           3|   V_TRAVEL_TIER|    4|\n",
      "|212663995003|516b9f7c-db51-4ff...| Karim Belkadi|      voice|2025-04-30 06:21:38|       voice|   7.8546|       7.8546|               0.0|            7.8546|        rated|           3|   V_FAMILY_TIME|    4|\n",
      "|212663995003|516b9f7c-db51-4ff...| Karim Belkadi|      voice|2025-04-30 06:21:38|       voice|   5.4696|       5.4696|               0.0|            5.4696|        rated|           3|  V_SPECIAL_TIER|    4|\n",
      "|212663995003|516b9f7c-db51-4ff...| Karim Belkadi|      voice|2025-04-30 06:21:38|       voice|  11.8932|      11.8932|               0.0|           11.8932|        rated|           3|  V_SPECIAL_FLAT|    4|\n",
      "|212663995003|516b9f7c-db51-4ff...| Karim Belkadi|      voice|2025-04-30 06:21:38|       voice|   7.2822|       7.2822|               0.0|            7.2822|        rated|           3|   V_EMP_FLAT_01|    4|\n",
      "|212663995003|516b9f7c-db51-4ff...| Karim Belkadi|      voice|2025-04-30 06:21:38|       voice|    8.427|        8.427|               0.0|             8.427|        rated|           3|   V_GOV_FLAT_01|    4|\n",
      "|212663995003|516b9f7c-db51-4ff...| Karim Belkadi|      voice|2025-04-30 06:21:38|       voice|  11.4162|      11.4162|               0.0|           11.4162|        rated|           3| V_PROMO_TIER_01|    4|\n",
      "|212663995003|516b9f7c-db51-4ff...| Karim Belkadi|      voice|2025-04-30 06:21:38|       voice|   7.6956|       7.6956|               0.0|            7.6956|        rated|           3| V_PROMO_FLAT_01|    4|\n",
      "|212663995003|516b9f7c-db51-4ff...| Karim Belkadi|      voice|2025-04-30 06:21:38|       voice|   3.9432|       3.9432|               0.0|            3.9432|        rated|           3| V_NIGHT_TIME_01|    4|\n",
      "|212663995003|516b9f7c-db51-4ff...| Karim Belkadi|      voice|2025-04-30 06:21:38|       voice|  11.0346|      11.0346|               0.0|           11.0346|        rated|           3|V_BUNDLE_TIER_01|    4|\n",
      "|212663995003|516b9f7c-db51-4ff...| Karim Belkadi|      voice|2025-04-30 06:21:38|       voice|   12.084|       12.084|               0.0|            12.084|        rated|           3|  V_WEEK_TIME_01|    4|\n",
      "|212663995003|516b9f7c-db51-4ff...| Karim Belkadi|      voice|2025-04-30 06:21:38|       voice|   5.1516|       5.1516|               0.0|            5.1516|        rated|           3|  V_WEEK_FLAT_01|    4|\n",
      "|212663995003|516b9f7c-db51-4ff...| Karim Belkadi|      voice|2025-04-30 06:21:38|       voice|   5.5968|       5.5968|               0.0|            5.5968|        rated|           3|  V_CORP_TIME_01|    4|\n",
      "|212663995003|516b9f7c-db51-4ff...| Karim Belkadi|      voice|2025-04-30 06:21:38|       voice|   4.1658|       4.1658|               0.0|            4.1658|        rated|           3|  V_CORP_TIER_01|    4|\n",
      "|212663995003|516b9f7c-db51-4ff...| Karim Belkadi|      voice|2025-04-30 06:21:38|       voice|  15.7092|      15.7092|               0.0|           15.7092|        rated|           3|  V_CORP_FLAT_01|    4|\n",
      "|212663995003|516b9f7c-db51-4ff...| Karim Belkadi|      voice|2025-04-30 06:21:38|       voice|   6.7734|       6.7734|               0.0|            6.7734|        rated|           3|  V_ROAM_TIME_02|    4|\n",
      "|212663995003|516b9f7c-db51-4ff...| Karim Belkadi|      voice|2025-04-30 06:21:38|       voice|   4.7064|       4.7064|               0.0|            4.7064|        rated|           3|  V_ROAM_TIME_01|    4|\n",
      "|212663995003|516b9f7c-db51-4ff...| Karim Belkadi|      voice|2025-04-30 06:21:38|       voice|    7.791|        7.791|               0.0|             7.791|        rated|           3|  V_ROAM_TIER_02|    4|\n",
      "|212663995003|516b9f7c-db51-4ff...| Karim Belkadi|      voice|2025-04-30 06:21:38|       voice|   10.653|       10.653|               0.0|            10.653|        rated|           3|  V_ROAM_TIER_01|    4|\n",
      "|212663995003|516b9f7c-db51-4ff...| Karim Belkadi|      voice|2025-04-30 06:21:38|       voice|   7.2822|       7.2822|               0.0|            7.2822|        rated|           3|  V_ROAM_FLAT_02|    4|\n",
      "|212663995003|516b9f7c-db51-4ff...| Karim Belkadi|      voice|2025-04-30 06:21:38|       voice|   9.7944|       9.7944|               0.0|            9.7944|        rated|           3|  V_ROAM_FLAT_01|    4|\n",
      "|212663995003|516b9f7c-db51-4ff...| Karim Belkadi|      voice|2025-04-30 06:21:38|       voice|   4.1658|       4.1658|               0.0|            4.1658|        rated|           3|  V_INTL_TIME_02|    4|\n",
      "|212663995003|516b9f7c-db51-4ff...| Karim Belkadi|      voice|2025-04-30 06:21:38|       voice|  12.4338|      12.4338|               0.0|           12.4338|        rated|           3|  V_INTL_TIME_01|    4|\n",
      "|212663995003|516b9f7c-db51-4ff...| Karim Belkadi|      voice|2025-04-30 06:21:38|       voice|   4.4838|       4.4838|               0.0|            4.4838|        rated|           3|  V_INTL_TIER_02|    4|\n",
      "|212663995003|516b9f7c-db51-4ff...| Karim Belkadi|      voice|2025-04-30 06:21:38|       voice|   15.423|       15.423|               0.0|            15.423|        rated|           3|  V_INTL_TIER_01|    4|\n",
      "|212663995003|516b9f7c-db51-4ff...| Karim Belkadi|      voice|2025-04-30 06:21:38|       voice|  15.2958|      15.2958|               0.0|           15.2958|        rated|           3|  V_INTL_FLAT_02|    4|\n",
      "|212663995003|516b9f7c-db51-4ff...| Karim Belkadi|      voice|2025-04-30 06:21:38|       voice|  14.3418|      14.3418|               0.0|           14.3418|        rated|           3|  V_INTL_FLAT_01|    4|\n",
      "|212663995003|516b9f7c-db51-4ff...| Karim Belkadi|      voice|2025-04-30 06:21:38|       voice|     6.36|         6.36|               0.0|              6.36|        rated|           3|   V_NAT_TIME_02|    4|\n",
      "|212663995003|516b9f7c-db51-4ff...| Karim Belkadi|      voice|2025-04-30 06:21:38|       voice|   5.3742|       5.3742|               0.0|            5.3742|        rated|           3|   V_NAT_TIME_01|    4|\n",
      "|212663995003|516b9f7c-db51-4ff...| Karim Belkadi|      voice|2025-04-30 06:21:38|       voice|  14.3736|      14.3736|               0.0|           14.3736|        rated|           3|   V_NAT_TIER_02|    4|\n",
      "|212663995003|516b9f7c-db51-4ff...| Karim Belkadi|      voice|2025-04-30 06:21:38|       voice|  12.9426|      12.9426|               0.0|           12.9426|        rated|           3|   V_NAT_TIER_01|    4|\n",
      "|212663995003|516b9f7c-db51-4ff...| Karim Belkadi|      voice|2025-04-30 06:21:38|       voice|   8.2044|       8.2044|               0.0|            8.2044|        rated|           3|   V_NAT_FLAT_02|    4|\n",
      "|212663995003|516b9f7c-db51-4ff...| Karim Belkadi|      voice|2025-04-30 06:21:38|       voice|   4.4202|       4.4202|               0.0|            4.4202|        rated|           3|   V_NAT_FLAT_01|    4|\n",
      "|212649454638|8cd02b9d-aff8-4c9...|   Karim Dahbi|      voice|2025-05-01 00:59:59|       voice|   15.165|       15.165|            1.5165|12.966074999999998|        rated|           7|     V_CORP_TIME|    5|\n",
      "|212649454638|8cd02b9d-aff8-4c9...|   Karim Dahbi|      voice|2025-05-01 00:59:59|       voice|  16.4793|      16.4793|           1.64793|14.089801499999998|        rated|           7|    V_EVENT_TIME|    5|\n",
      "|212649454638|8cd02b9d-aff8-4c9...|   Karim Dahbi|      voice|2025-05-01 00:59:59|       voice|   5.8638|       5.8638|           0.58638|          5.013549|        rated|           7|      V_BIZ_FLAT|    5|\n",
      "|212649454638|8cd02b9d-aff8-4c9...|   Karim Dahbi|      voice|2025-05-01 00:59:59|       voice|  13.0756|      13.0756|           1.30756|11.179637999999999|        rated|           7|    V_NIGHT_TIER|    5|\n",
      "|212649454638|8cd02b9d-aff8-4c9...|   Karim Dahbi|      voice|2025-05-01 00:59:59|       voice|  10.9862|      10.9862|1.0986200000000002|          9.393201|        rated|           7|    V_CONFERENCE|    5|\n",
      "|212649454638|8cd02b9d-aff8-4c9...|   Karim Dahbi|      voice|2025-05-01 00:59:59|       voice|   7.2792|       7.2792|0.7279200000000001|6.2237160000000005|        rated|           7|   V_MARKET_TIER|    5|\n",
      "|212649454638|8cd02b9d-aff8-4c9...|   Karim Dahbi|      voice|2025-05-01 00:59:59|       voice|  12.1657|      12.1657|           1.21657|10.401673500000001|        rated|           7|      V_EDU_FLAT|    5|\n",
      "|212649454638|8cd02b9d-aff8-4c9...|   Karim Dahbi|      voice|2025-05-01 00:59:59|       voice|  12.3342|      12.3342|           1.23342|10.545740999999998|        rated|           7|   V_TRAVEL_TIER|    5|\n",
      "|212649454638|8cd02b9d-aff8-4c9...|   Karim Dahbi|      voice|2025-05-01 00:59:59|       voice|  13.1093|      13.1093|           1.31093|11.208451499999999|        rated|           7|   V_FAMILY_TIME|    5|\n",
      "|212649454638|8cd02b9d-aff8-4c9...|   Karim Dahbi|      voice|2025-05-01 00:59:59|       voice|   6.0997|       6.0997|0.6099700000000001|         5.2152435|        rated|           7|  V_SPECIAL_TIER|    5|\n",
      "|212649454638|8cd02b9d-aff8-4c9...|   Karim Dahbi|      voice|2025-05-01 00:59:59|       voice|  10.9525|      10.9525|           1.09525| 9.364387500000001|        rated|           7|  V_SPECIAL_FLAT|    5|\n",
      "|212649454638|8cd02b9d-aff8-4c9...|   Karim Dahbi|      voice|2025-05-01 00:59:59|       voice|   7.6499|       7.6499|0.7649900000000001|         6.5406645|        rated|           7|   V_EMP_FLAT_01|    5|\n",
      "|212649454638|8cd02b9d-aff8-4c9...|   Karim Dahbi|      voice|2025-05-01 00:59:59|       voice|  16.7826|      16.7826|1.6782599999999999|14.349122999999999|        rated|           7|   V_GOV_FLAT_01|    5|\n",
      "|212649454638|8cd02b9d-aff8-4c9...|   Karim Dahbi|      voice|2025-05-01 00:59:59|       voice|  12.6712|      12.6712|1.2671200000000002|         10.833876|        rated|           7| V_PROMO_TIER_01|    5|\n",
      "|212649454638|8cd02b9d-aff8-4c9...|   Karim Dahbi|      voice|2025-05-01 00:59:59|       voice|   3.5385|       3.5385|           0.35385|         3.0254175|        rated|           7| V_PROMO_FLAT_01|    5|\n",
      "|212649454638|8cd02b9d-aff8-4c9...|   Karim Dahbi|      voice|2025-05-01 00:59:59|       voice|   8.7957|       8.7957|0.8795700000000001|         7.5203235|        rated|           7| V_NIGHT_TIME_01|    5|\n",
      "|212649454638|8cd02b9d-aff8-4c9...|   Karim Dahbi|      voice|2025-05-01 00:59:59|       voice|  15.9401|      15.9401|           1.59401|        13.6287855|        rated|           7|V_BUNDLE_TIER_01|    5|\n",
      "|212649454638|8cd02b9d-aff8-4c9...|   Karim Dahbi|      voice|2025-05-01 00:59:59|       voice|   5.3246|       5.3246|           0.53246|4.5525329999999995|        rated|           7|  V_WEEK_TIME_01|    5|\n",
      "|212649454638|8cd02b9d-aff8-4c9...|   Karim Dahbi|      voice|2025-05-01 00:59:59|       voice|  12.4353|      12.4353|           1.24353|        10.6321815|        rated|           7|  V_WEEK_FLAT_01|    5|\n",
      "|212649454638|8cd02b9d-aff8-4c9...|   Karim Dahbi|      voice|2025-05-01 00:59:59|       voice|  10.2448|      10.2448|           1.02448| 8.759303999999998|        rated|           7|  V_CORP_TIME_01|    5|\n",
      "+------------+--------------------+--------------+-----------+-------------------+------------+---------+-------------+------------------+------------------+-------------+------------+----------------+-----+\n",
      "only showing top 100 rows\n",
      "\n"
     ]
    }
   ],
   "source": [
    "df_with_month.show(100)\n"
   ]
  },
  {
   "cell_type": "code",
   "execution_count": null,
   "id": "5f84f96f-4ca7-43d7-8aec-d82363139b9f",
   "metadata": {},
   "outputs": [],
   "source": []
  }
 ],
 "metadata": {
  "kernelspec": {
   "display_name": "Python 3 (ipykernel)",
   "language": "python",
   "name": "python3"
  },
  "language_info": {
   "codemirror_mode": {
    "name": "ipython",
    "version": 3
   },
   "file_extension": ".py",
   "mimetype": "text/x-python",
   "name": "python",
   "nbconvert_exporter": "python",
   "pygments_lexer": "ipython3",
   "version": "3.11.7"
  }
 },
 "nbformat": 4,
 "nbformat_minor": 5
}
